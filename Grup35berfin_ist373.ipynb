{
 "cells": [
  {
   "cell_type": "markdown",
   "id": "c41b1911-6662-4c24-a90e-89a04542ff4b",
   "metadata": {},
   "source": [
    "# 12.HİPOTEZ TESTLERİ"
   ]
  },
  {
   "cell_type": "markdown",
   "id": "c21ec1ea-bcbb-4247-9f31-840aaa629558",
   "metadata": {},
   "source": [
    "Kullanacağımız kütüphaneleri çağırdık."
   ]
  },
  {
   "cell_type": "code",
   "execution_count": 1,
   "id": "c345c07f-6106-4025-94d2-86ec7056a462",
   "metadata": {},
   "outputs": [],
   "source": [
    "import pandas as pd\n",
    "import numpy as np\n",
    "from scipy.stats import ks_2samp\n",
    "from scipy.stats import mannwhitneyu\n",
    "from scipy.stats import ttest_ind\n",
    "from statsmodels.stats.power import TTestIndPower"
   ]
  },
  {
   "cell_type": "markdown",
   "id": "5b66c60e-9f4b-456e-8601-0b483aacbafb",
   "metadata": {},
   "source": [
    "Veri setimizi yükledik ve data ismiyle atadık."
   ]
  },
  {
   "cell_type": "code",
   "execution_count": 2,
   "id": "40d08bd6-fab0-4b97-bbab-7dcd187ca741",
   "metadata": {},
   "outputs": [],
   "source": [
    "data = pd.read_csv(\"istyazilim_odevi/gym_members_exercise_tracking.csv\")"
   ]
  },
  {
   "cell_type": "markdown",
   "id": "65085a4f-6176-427e-b0f3-d5da053f25c7",
   "metadata": {},
   "source": [
    "Veri setinin ilk ve son beş verisini head() ve tail() fonksiyonlarıyla doğruladık."
   ]
  },
  {
   "cell_type": "code",
   "execution_count": 3,
   "id": "c3d14a30-a5a8-4a37-b12e-c15b2cd158fe",
   "metadata": {},
   "outputs": [
    {
     "data": {
      "text/html": [
       "<div>\n",
       "<style scoped>\n",
       "    .dataframe tbody tr th:only-of-type {\n",
       "        vertical-align: middle;\n",
       "    }\n",
       "\n",
       "    .dataframe tbody tr th {\n",
       "        vertical-align: top;\n",
       "    }\n",
       "\n",
       "    .dataframe thead th {\n",
       "        text-align: right;\n",
       "    }\n",
       "</style>\n",
       "<table border=\"1\" class=\"dataframe\">\n",
       "  <thead>\n",
       "    <tr style=\"text-align: right;\">\n",
       "      <th></th>\n",
       "      <th>Age</th>\n",
       "      <th>Gender</th>\n",
       "      <th>Weight (kg)</th>\n",
       "      <th>Height (m)</th>\n",
       "      <th>Max_BPM</th>\n",
       "      <th>Avg_BPM</th>\n",
       "      <th>Resting_BPM</th>\n",
       "      <th>Session_Duration (hours)</th>\n",
       "      <th>Calories_Burned</th>\n",
       "      <th>Workout_Type</th>\n",
       "      <th>Fat_Percentage</th>\n",
       "      <th>Water_Intake (liters)</th>\n",
       "      <th>Workout_Frequency (days/week)</th>\n",
       "      <th>Experience_Level</th>\n",
       "      <th>BMI</th>\n",
       "    </tr>\n",
       "  </thead>\n",
       "  <tbody>\n",
       "    <tr>\n",
       "      <th>0</th>\n",
       "      <td>56</td>\n",
       "      <td>Male</td>\n",
       "      <td>88.3</td>\n",
       "      <td>1.71</td>\n",
       "      <td>180</td>\n",
       "      <td>157</td>\n",
       "      <td>60</td>\n",
       "      <td>1.69</td>\n",
       "      <td>1313.0</td>\n",
       "      <td>Yoga</td>\n",
       "      <td>12.6</td>\n",
       "      <td>3.5</td>\n",
       "      <td>4</td>\n",
       "      <td>3</td>\n",
       "      <td>30.20</td>\n",
       "    </tr>\n",
       "    <tr>\n",
       "      <th>1</th>\n",
       "      <td>46</td>\n",
       "      <td>Female</td>\n",
       "      <td>74.9</td>\n",
       "      <td>1.53</td>\n",
       "      <td>179</td>\n",
       "      <td>151</td>\n",
       "      <td>66</td>\n",
       "      <td>1.30</td>\n",
       "      <td>883.0</td>\n",
       "      <td>HIIT</td>\n",
       "      <td>33.9</td>\n",
       "      <td>2.1</td>\n",
       "      <td>4</td>\n",
       "      <td>2</td>\n",
       "      <td>32.00</td>\n",
       "    </tr>\n",
       "    <tr>\n",
       "      <th>2</th>\n",
       "      <td>32</td>\n",
       "      <td>Female</td>\n",
       "      <td>68.1</td>\n",
       "      <td>1.66</td>\n",
       "      <td>167</td>\n",
       "      <td>122</td>\n",
       "      <td>54</td>\n",
       "      <td>1.11</td>\n",
       "      <td>677.0</td>\n",
       "      <td>Cardio</td>\n",
       "      <td>33.4</td>\n",
       "      <td>2.3</td>\n",
       "      <td>4</td>\n",
       "      <td>2</td>\n",
       "      <td>24.71</td>\n",
       "    </tr>\n",
       "    <tr>\n",
       "      <th>3</th>\n",
       "      <td>25</td>\n",
       "      <td>Male</td>\n",
       "      <td>53.2</td>\n",
       "      <td>1.70</td>\n",
       "      <td>190</td>\n",
       "      <td>164</td>\n",
       "      <td>56</td>\n",
       "      <td>0.59</td>\n",
       "      <td>532.0</td>\n",
       "      <td>Strength</td>\n",
       "      <td>28.8</td>\n",
       "      <td>2.1</td>\n",
       "      <td>3</td>\n",
       "      <td>1</td>\n",
       "      <td>18.41</td>\n",
       "    </tr>\n",
       "    <tr>\n",
       "      <th>4</th>\n",
       "      <td>38</td>\n",
       "      <td>Male</td>\n",
       "      <td>46.1</td>\n",
       "      <td>1.79</td>\n",
       "      <td>188</td>\n",
       "      <td>158</td>\n",
       "      <td>68</td>\n",
       "      <td>0.64</td>\n",
       "      <td>556.0</td>\n",
       "      <td>Strength</td>\n",
       "      <td>29.2</td>\n",
       "      <td>2.8</td>\n",
       "      <td>3</td>\n",
       "      <td>1</td>\n",
       "      <td>14.39</td>\n",
       "    </tr>\n",
       "  </tbody>\n",
       "</table>\n",
       "</div>"
      ],
      "text/plain": [
       "   Age  Gender  Weight (kg)  Height (m)  Max_BPM  Avg_BPM  Resting_BPM  \\\n",
       "0   56    Male         88.3        1.71      180      157           60   \n",
       "1   46  Female         74.9        1.53      179      151           66   \n",
       "2   32  Female         68.1        1.66      167      122           54   \n",
       "3   25    Male         53.2        1.70      190      164           56   \n",
       "4   38    Male         46.1        1.79      188      158           68   \n",
       "\n",
       "   Session_Duration (hours)  Calories_Burned Workout_Type  Fat_Percentage  \\\n",
       "0                      1.69           1313.0         Yoga            12.6   \n",
       "1                      1.30            883.0         HIIT            33.9   \n",
       "2                      1.11            677.0       Cardio            33.4   \n",
       "3                      0.59            532.0     Strength            28.8   \n",
       "4                      0.64            556.0     Strength            29.2   \n",
       "\n",
       "   Water_Intake (liters)  Workout_Frequency (days/week)  Experience_Level  \\\n",
       "0                    3.5                              4                 3   \n",
       "1                    2.1                              4                 2   \n",
       "2                    2.3                              4                 2   \n",
       "3                    2.1                              3                 1   \n",
       "4                    2.8                              3                 1   \n",
       "\n",
       "     BMI  \n",
       "0  30.20  \n",
       "1  32.00  \n",
       "2  24.71  \n",
       "3  18.41  \n",
       "4  14.39  "
      ]
     },
     "execution_count": 3,
     "metadata": {},
     "output_type": "execute_result"
    }
   ],
   "source": [
    "data.head()"
   ]
  },
  {
   "cell_type": "code",
   "execution_count": 4,
   "id": "624ffb84-ad24-48ac-bdfc-a4dae4e9dd4f",
   "metadata": {},
   "outputs": [
    {
     "data": {
      "text/html": [
       "<div>\n",
       "<style scoped>\n",
       "    .dataframe tbody tr th:only-of-type {\n",
       "        vertical-align: middle;\n",
       "    }\n",
       "\n",
       "    .dataframe tbody tr th {\n",
       "        vertical-align: top;\n",
       "    }\n",
       "\n",
       "    .dataframe thead th {\n",
       "        text-align: right;\n",
       "    }\n",
       "</style>\n",
       "<table border=\"1\" class=\"dataframe\">\n",
       "  <thead>\n",
       "    <tr style=\"text-align: right;\">\n",
       "      <th></th>\n",
       "      <th>Age</th>\n",
       "      <th>Gender</th>\n",
       "      <th>Weight (kg)</th>\n",
       "      <th>Height (m)</th>\n",
       "      <th>Max_BPM</th>\n",
       "      <th>Avg_BPM</th>\n",
       "      <th>Resting_BPM</th>\n",
       "      <th>Session_Duration (hours)</th>\n",
       "      <th>Calories_Burned</th>\n",
       "      <th>Workout_Type</th>\n",
       "      <th>Fat_Percentage</th>\n",
       "      <th>Water_Intake (liters)</th>\n",
       "      <th>Workout_Frequency (days/week)</th>\n",
       "      <th>Experience_Level</th>\n",
       "      <th>BMI</th>\n",
       "    </tr>\n",
       "  </thead>\n",
       "  <tbody>\n",
       "    <tr>\n",
       "      <th>968</th>\n",
       "      <td>24</td>\n",
       "      <td>Male</td>\n",
       "      <td>87.1</td>\n",
       "      <td>1.74</td>\n",
       "      <td>187</td>\n",
       "      <td>158</td>\n",
       "      <td>67</td>\n",
       "      <td>1.57</td>\n",
       "      <td>1364.0</td>\n",
       "      <td>Strength</td>\n",
       "      <td>10.0</td>\n",
       "      <td>3.5</td>\n",
       "      <td>4</td>\n",
       "      <td>3</td>\n",
       "      <td>28.77</td>\n",
       "    </tr>\n",
       "    <tr>\n",
       "      <th>969</th>\n",
       "      <td>25</td>\n",
       "      <td>Male</td>\n",
       "      <td>66.6</td>\n",
       "      <td>1.61</td>\n",
       "      <td>184</td>\n",
       "      <td>166</td>\n",
       "      <td>56</td>\n",
       "      <td>1.38</td>\n",
       "      <td>1260.0</td>\n",
       "      <td>Strength</td>\n",
       "      <td>25.0</td>\n",
       "      <td>3.0</td>\n",
       "      <td>2</td>\n",
       "      <td>1</td>\n",
       "      <td>25.69</td>\n",
       "    </tr>\n",
       "    <tr>\n",
       "      <th>970</th>\n",
       "      <td>59</td>\n",
       "      <td>Female</td>\n",
       "      <td>60.4</td>\n",
       "      <td>1.76</td>\n",
       "      <td>194</td>\n",
       "      <td>120</td>\n",
       "      <td>53</td>\n",
       "      <td>1.72</td>\n",
       "      <td>929.0</td>\n",
       "      <td>Cardio</td>\n",
       "      <td>18.8</td>\n",
       "      <td>2.7</td>\n",
       "      <td>5</td>\n",
       "      <td>3</td>\n",
       "      <td>19.50</td>\n",
       "    </tr>\n",
       "    <tr>\n",
       "      <th>971</th>\n",
       "      <td>32</td>\n",
       "      <td>Male</td>\n",
       "      <td>126.4</td>\n",
       "      <td>1.83</td>\n",
       "      <td>198</td>\n",
       "      <td>146</td>\n",
       "      <td>62</td>\n",
       "      <td>1.10</td>\n",
       "      <td>883.0</td>\n",
       "      <td>HIIT</td>\n",
       "      <td>28.2</td>\n",
       "      <td>2.1</td>\n",
       "      <td>3</td>\n",
       "      <td>2</td>\n",
       "      <td>37.74</td>\n",
       "    </tr>\n",
       "    <tr>\n",
       "      <th>972</th>\n",
       "      <td>46</td>\n",
       "      <td>Male</td>\n",
       "      <td>88.7</td>\n",
       "      <td>1.63</td>\n",
       "      <td>166</td>\n",
       "      <td>146</td>\n",
       "      <td>66</td>\n",
       "      <td>0.75</td>\n",
       "      <td>542.0</td>\n",
       "      <td>Strength</td>\n",
       "      <td>28.8</td>\n",
       "      <td>3.5</td>\n",
       "      <td>2</td>\n",
       "      <td>1</td>\n",
       "      <td>33.38</td>\n",
       "    </tr>\n",
       "  </tbody>\n",
       "</table>\n",
       "</div>"
      ],
      "text/plain": [
       "     Age  Gender  Weight (kg)  Height (m)  Max_BPM  Avg_BPM  Resting_BPM  \\\n",
       "968   24    Male         87.1        1.74      187      158           67   \n",
       "969   25    Male         66.6        1.61      184      166           56   \n",
       "970   59  Female         60.4        1.76      194      120           53   \n",
       "971   32    Male        126.4        1.83      198      146           62   \n",
       "972   46    Male         88.7        1.63      166      146           66   \n",
       "\n",
       "     Session_Duration (hours)  Calories_Burned Workout_Type  Fat_Percentage  \\\n",
       "968                      1.57           1364.0     Strength            10.0   \n",
       "969                      1.38           1260.0     Strength            25.0   \n",
       "970                      1.72            929.0       Cardio            18.8   \n",
       "971                      1.10            883.0         HIIT            28.2   \n",
       "972                      0.75            542.0     Strength            28.8   \n",
       "\n",
       "     Water_Intake (liters)  Workout_Frequency (days/week)  Experience_Level  \\\n",
       "968                    3.5                              4                 3   \n",
       "969                    3.0                              2                 1   \n",
       "970                    2.7                              5                 3   \n",
       "971                    2.1                              3                 2   \n",
       "972                    3.5                              2                 1   \n",
       "\n",
       "       BMI  \n",
       "968  28.77  \n",
       "969  25.69  \n",
       "970  19.50  \n",
       "971  37.74  \n",
       "972  33.38  "
      ]
     },
     "execution_count": 4,
     "metadata": {},
     "output_type": "execute_result"
    }
   ],
   "source": [
    "data.tail()"
   ]
  },
  {
   "cell_type": "markdown",
   "id": "1eaa3905-4f37-4d43-9064-d82c1c645421",
   "metadata": {},
   "source": [
    "Veri setinde toplam 15 değişken mevcut. Bu değişkenlerden 7 tanesi float (sürekli), 6 tanesi integer (kesikli) ve 2 tanesi object (kategorik) olduğu görülüyor. Değişkenlerin yanındaki non-null ifadesi veri setinde eksik değer olmadığını gösteriyor. "
   ]
  },
  {
   "cell_type": "code",
   "execution_count": 5,
   "id": "320cc6e1-cdcd-4a2e-9372-194c31d2d6b0",
   "metadata": {},
   "outputs": [
    {
     "name": "stdout",
     "output_type": "stream",
     "text": [
      "<class 'pandas.core.frame.DataFrame'>\n",
      "RangeIndex: 973 entries, 0 to 972\n",
      "Data columns (total 15 columns):\n",
      " #   Column                         Non-Null Count  Dtype  \n",
      "---  ------                         --------------  -----  \n",
      " 0   Age                            973 non-null    int64  \n",
      " 1   Gender                         973 non-null    object \n",
      " 2   Weight (kg)                    973 non-null    float64\n",
      " 3   Height (m)                     973 non-null    float64\n",
      " 4   Max_BPM                        973 non-null    int64  \n",
      " 5   Avg_BPM                        973 non-null    int64  \n",
      " 6   Resting_BPM                    973 non-null    int64  \n",
      " 7   Session_Duration (hours)       973 non-null    float64\n",
      " 8   Calories_Burned                973 non-null    float64\n",
      " 9   Workout_Type                   973 non-null    object \n",
      " 10  Fat_Percentage                 973 non-null    float64\n",
      " 11  Water_Intake (liters)          973 non-null    float64\n",
      " 12  Workout_Frequency (days/week)  973 non-null    int64  \n",
      " 13  Experience_Level               973 non-null    int64  \n",
      " 14  BMI                            973 non-null    float64\n",
      "dtypes: float64(7), int64(6), object(2)\n",
      "memory usage: 114.2+ KB\n"
     ]
    }
   ],
   "source": [
    "veri_yapisi = data.info()"
   ]
  },
  {
   "cell_type": "markdown",
   "id": "35f77f90-c71c-45a2-9c6e-c9b804346925",
   "metadata": {},
   "source": [
    "describe() fonksiyonu ile sürekli ve kesikli değişkenlerin betimsel istatistikleri hakkında bilgi sahibi olduk."
   ]
  },
  {
   "cell_type": "code",
   "execution_count": 8,
   "id": "62b3c521-8830-4a73-8553-e9dbe9690567",
   "metadata": {},
   "outputs": [
    {
     "data": {
      "text/html": [
       "<div>\n",
       "<style scoped>\n",
       "    .dataframe tbody tr th:only-of-type {\n",
       "        vertical-align: middle;\n",
       "    }\n",
       "\n",
       "    .dataframe tbody tr th {\n",
       "        vertical-align: top;\n",
       "    }\n",
       "\n",
       "    .dataframe thead th {\n",
       "        text-align: right;\n",
       "    }\n",
       "</style>\n",
       "<table border=\"1\" class=\"dataframe\">\n",
       "  <thead>\n",
       "    <tr style=\"text-align: right;\">\n",
       "      <th></th>\n",
       "      <th>count</th>\n",
       "      <th>mean</th>\n",
       "      <th>std</th>\n",
       "      <th>min</th>\n",
       "      <th>25%</th>\n",
       "      <th>50%</th>\n",
       "      <th>75%</th>\n",
       "      <th>max</th>\n",
       "    </tr>\n",
       "  </thead>\n",
       "  <tbody>\n",
       "    <tr>\n",
       "      <th>Age</th>\n",
       "      <td>973.0</td>\n",
       "      <td>38.683453</td>\n",
       "      <td>12.180928</td>\n",
       "      <td>18.00</td>\n",
       "      <td>28.00</td>\n",
       "      <td>40.00</td>\n",
       "      <td>49.00</td>\n",
       "      <td>59.00</td>\n",
       "    </tr>\n",
       "    <tr>\n",
       "      <th>Weight (kg)</th>\n",
       "      <td>973.0</td>\n",
       "      <td>73.854676</td>\n",
       "      <td>21.207500</td>\n",
       "      <td>40.00</td>\n",
       "      <td>58.10</td>\n",
       "      <td>70.00</td>\n",
       "      <td>86.00</td>\n",
       "      <td>129.90</td>\n",
       "    </tr>\n",
       "    <tr>\n",
       "      <th>Height (m)</th>\n",
       "      <td>973.0</td>\n",
       "      <td>1.722580</td>\n",
       "      <td>0.127720</td>\n",
       "      <td>1.50</td>\n",
       "      <td>1.62</td>\n",
       "      <td>1.71</td>\n",
       "      <td>1.80</td>\n",
       "      <td>2.00</td>\n",
       "    </tr>\n",
       "    <tr>\n",
       "      <th>Max_BPM</th>\n",
       "      <td>973.0</td>\n",
       "      <td>179.883864</td>\n",
       "      <td>11.525686</td>\n",
       "      <td>160.00</td>\n",
       "      <td>170.00</td>\n",
       "      <td>180.00</td>\n",
       "      <td>190.00</td>\n",
       "      <td>199.00</td>\n",
       "    </tr>\n",
       "    <tr>\n",
       "      <th>Avg_BPM</th>\n",
       "      <td>973.0</td>\n",
       "      <td>143.766701</td>\n",
       "      <td>14.345101</td>\n",
       "      <td>120.00</td>\n",
       "      <td>131.00</td>\n",
       "      <td>143.00</td>\n",
       "      <td>156.00</td>\n",
       "      <td>169.00</td>\n",
       "    </tr>\n",
       "    <tr>\n",
       "      <th>Resting_BPM</th>\n",
       "      <td>973.0</td>\n",
       "      <td>62.223022</td>\n",
       "      <td>7.327060</td>\n",
       "      <td>50.00</td>\n",
       "      <td>56.00</td>\n",
       "      <td>62.00</td>\n",
       "      <td>68.00</td>\n",
       "      <td>74.00</td>\n",
       "    </tr>\n",
       "    <tr>\n",
       "      <th>Session_Duration (hours)</th>\n",
       "      <td>973.0</td>\n",
       "      <td>1.256423</td>\n",
       "      <td>0.343033</td>\n",
       "      <td>0.50</td>\n",
       "      <td>1.04</td>\n",
       "      <td>1.26</td>\n",
       "      <td>1.46</td>\n",
       "      <td>2.00</td>\n",
       "    </tr>\n",
       "    <tr>\n",
       "      <th>Calories_Burned</th>\n",
       "      <td>973.0</td>\n",
       "      <td>905.422405</td>\n",
       "      <td>272.641516</td>\n",
       "      <td>303.00</td>\n",
       "      <td>720.00</td>\n",
       "      <td>893.00</td>\n",
       "      <td>1076.00</td>\n",
       "      <td>1783.00</td>\n",
       "    </tr>\n",
       "    <tr>\n",
       "      <th>Fat_Percentage</th>\n",
       "      <td>973.0</td>\n",
       "      <td>24.976773</td>\n",
       "      <td>6.259419</td>\n",
       "      <td>10.00</td>\n",
       "      <td>21.30</td>\n",
       "      <td>26.20</td>\n",
       "      <td>29.30</td>\n",
       "      <td>35.00</td>\n",
       "    </tr>\n",
       "    <tr>\n",
       "      <th>Water_Intake (liters)</th>\n",
       "      <td>973.0</td>\n",
       "      <td>2.626619</td>\n",
       "      <td>0.600172</td>\n",
       "      <td>1.50</td>\n",
       "      <td>2.20</td>\n",
       "      <td>2.60</td>\n",
       "      <td>3.10</td>\n",
       "      <td>3.70</td>\n",
       "    </tr>\n",
       "    <tr>\n",
       "      <th>Workout_Frequency (days/week)</th>\n",
       "      <td>973.0</td>\n",
       "      <td>3.321686</td>\n",
       "      <td>0.913047</td>\n",
       "      <td>2.00</td>\n",
       "      <td>3.00</td>\n",
       "      <td>3.00</td>\n",
       "      <td>4.00</td>\n",
       "      <td>5.00</td>\n",
       "    </tr>\n",
       "    <tr>\n",
       "      <th>Experience_Level</th>\n",
       "      <td>973.0</td>\n",
       "      <td>1.809866</td>\n",
       "      <td>0.739693</td>\n",
       "      <td>1.00</td>\n",
       "      <td>1.00</td>\n",
       "      <td>2.00</td>\n",
       "      <td>2.00</td>\n",
       "      <td>3.00</td>\n",
       "    </tr>\n",
       "    <tr>\n",
       "      <th>BMI</th>\n",
       "      <td>973.0</td>\n",
       "      <td>24.912127</td>\n",
       "      <td>6.660879</td>\n",
       "      <td>12.32</td>\n",
       "      <td>20.11</td>\n",
       "      <td>24.16</td>\n",
       "      <td>28.56</td>\n",
       "      <td>49.84</td>\n",
       "    </tr>\n",
       "  </tbody>\n",
       "</table>\n",
       "</div>"
      ],
      "text/plain": [
       "                               count        mean         std     min     25%  \\\n",
       "Age                            973.0   38.683453   12.180928   18.00   28.00   \n",
       "Weight (kg)                    973.0   73.854676   21.207500   40.00   58.10   \n",
       "Height (m)                     973.0    1.722580    0.127720    1.50    1.62   \n",
       "Max_BPM                        973.0  179.883864   11.525686  160.00  170.00   \n",
       "Avg_BPM                        973.0  143.766701   14.345101  120.00  131.00   \n",
       "Resting_BPM                    973.0   62.223022    7.327060   50.00   56.00   \n",
       "Session_Duration (hours)       973.0    1.256423    0.343033    0.50    1.04   \n",
       "Calories_Burned                973.0  905.422405  272.641516  303.00  720.00   \n",
       "Fat_Percentage                 973.0   24.976773    6.259419   10.00   21.30   \n",
       "Water_Intake (liters)          973.0    2.626619    0.600172    1.50    2.20   \n",
       "Workout_Frequency (days/week)  973.0    3.321686    0.913047    2.00    3.00   \n",
       "Experience_Level               973.0    1.809866    0.739693    1.00    1.00   \n",
       "BMI                            973.0   24.912127    6.660879   12.32   20.11   \n",
       "\n",
       "                                  50%      75%      max  \n",
       "Age                             40.00    49.00    59.00  \n",
       "Weight (kg)                     70.00    86.00   129.90  \n",
       "Height (m)                       1.71     1.80     2.00  \n",
       "Max_BPM                        180.00   190.00   199.00  \n",
       "Avg_BPM                        143.00   156.00   169.00  \n",
       "Resting_BPM                     62.00    68.00    74.00  \n",
       "Session_Duration (hours)         1.26     1.46     2.00  \n",
       "Calories_Burned                893.00  1076.00  1783.00  \n",
       "Fat_Percentage                  26.20    29.30    35.00  \n",
       "Water_Intake (liters)            2.60     3.10     3.70  \n",
       "Workout_Frequency (days/week)    3.00     4.00     5.00  \n",
       "Experience_Level                 2.00     2.00     3.00  \n",
       "BMI                             24.16    28.56    49.84  "
      ]
     },
     "execution_count": 8,
     "metadata": {},
     "output_type": "execute_result"
    }
   ],
   "source": [
    "data.describe().T"
   ]
  },
  {
   "cell_type": "markdown",
   "id": "24cde841-af0c-4efd-a28c-763a15e2616a",
   "metadata": {},
   "source": [
    "Araştırmada;                                                                              \n",
    "* Cinsiyete göre yakılan kalori ortalamaları arasında fark olmadığı,                                \n",
    "* 73'ten az kiloya sahip üyelerin ortalama oturum süreleri ile 73'ten fazla kiloya sahip üyelerin oturum süreleri arasında fark olmadığı,\n",
    "* 30 yaşından küçük üyelerin ortalama antrenman sıklığının, 30 yaşından büyük üyelerin ortalama antrenman sıklığından fazla olduğu                                durumları test edilecektir."
   ]
  },
  {
   "cell_type": "markdown",
   "id": "8adff707-f9d5-4f4d-b4c6-2efd05823c64",
   "metadata": {},
   "source": [
    "Hipotez testleri için genel varsayımlar:\n",
    "* Örneğe alınan birimler birbirinden bağımsız olmalı\n",
    "* Anakütle normal dağılıma sahip olmalı"
   ]
  },
  {
   "cell_type": "markdown",
   "id": "e42fcfa7-01f7-4192-add6-921838bcadc5",
   "metadata": {},
   "source": [
    "## 1.HİPOTEZ                                                \n",
    "H0: Erkek ve kadın üyelerin yaktıkları ortalama kalori miktarları arasında fark yoktur.                                                  \n",
    "H1: Erkek ve kadın üyelerin yaktıkları ortalama kalori miktarları arasında fark vardır."
   ]
  },
  {
   "cell_type": "markdown",
   "id": "02416a8a-effb-40b8-b293-2fb32487359f",
   "metadata": {},
   "source": [
    "Erkek ve kadın üyeler birbirinden bağımsızdır. Bundan dolayı değişkenlerimizin normalliğini inceleyeceğiz."
   ]
  },
  {
   "cell_type": "markdown",
   "id": "c2492284-31bc-4c80-85f6-9b8a5e421880",
   "metadata": {},
   "source": [
    "_Erkek üyeleri 0, kadın üyeleri 1 olarak tanımladık._"
   ]
  },
  {
   "cell_type": "code",
   "execution_count": 6,
   "id": "e72870e6-ce94-49a8-a10c-85a58371352b",
   "metadata": {},
   "outputs": [],
   "source": [
    "data[\"Gender\"] = data[\"Gender\"].map({\"Male\": 0, \"Female\": 1})"
   ]
  },
  {
   "cell_type": "code",
   "execution_count": 7,
   "id": "74455d2d-7bc5-4de7-aff9-d25ba0bf14e9",
   "metadata": {},
   "outputs": [
    {
     "name": "stdout",
     "output_type": "stream",
     "text": [
      "[0 1]\n"
     ]
    }
   ],
   "source": [
    "print(data[\"Gender\"].unique())"
   ]
  },
  {
   "cell_type": "markdown",
   "id": "b3695b01-5482-4326-8840-4b9b22e816d9",
   "metadata": {},
   "source": [
    "_Erkek ve kadınların yaktıkları kalori miktarlarını gruplara ayırdık._"
   ]
  },
  {
   "cell_type": "code",
   "execution_count": 8,
   "id": "7a04451f-3426-4dac-8719-701e3a8152cd",
   "metadata": {},
   "outputs": [],
   "source": [
    "male_calories = data[data[\"Gender\"] == 0][\"Calories_Burned\"]\n",
    "female_calories = data[data[\"Gender\"] == 1][\"Calories_Burned\"]"
   ]
  },
  {
   "cell_type": "markdown",
   "id": "77c7f016-78ed-4c4b-87be-05d1fc960c61",
   "metadata": {},
   "source": [
    "_Örneklemlerimizin büyüklükleri 50'den büyük olduğundan kolmogorov-smirnov testini kullanırız._"
   ]
  },
  {
   "cell_type": "code",
   "execution_count": 9,
   "id": "1f2aa02e-483b-4327-98ed-1cd3c7515b22",
   "metadata": {},
   "outputs": [
    {
     "name": "stdout",
     "output_type": "stream",
     "text": [
      "Kolmogorov-Smirnov test istatistiği:  0.14617802289035164\n",
      "p-değeri:  5.3686636227162995e-05\n"
     ]
    }
   ],
   "source": [
    "ks_statistic, p_value = ks_2samp(male_calories, female_calories)\n",
    "\n",
    "print(\"Kolmogorov-Smirnov test istatistiği: \", ks_statistic)\n",
    "print(\"p-değeri: \", p_value)"
   ]
  },
  {
   "cell_type": "markdown",
   "id": "7921b33b-92b1-4acb-9831-472969e50bc8",
   "metadata": {},
   "source": [
    "* 1.tip hata yani alfa değerini 0.05 olarak kendimiz tanımladık."
   ]
  },
  {
   "cell_type": "markdown",
   "id": "e6ca44b1-764a-46a9-add0-d13d817cf5f1",
   "metadata": {},
   "source": [
    "Kurduğumuz if döngüsü ile _male_calories_ ve _female_calories_ ifadelerinin dağılımını test ettik. "
   ]
  },
  {
   "cell_type": "code",
   "execution_count": 10,
   "id": "628b9610-aa2e-4bd5-aed6-a74473bc80e1",
   "metadata": {},
   "outputs": [
    {
     "name": "stdout",
     "output_type": "stream",
     "text": [
      "İki örneklem aynı dağılıma sahip değildir.\n"
     ]
    }
   ],
   "source": [
    "alpha = 0.05\n",
    "if p_value < alpha:\n",
    "    print(\"İki örneklem aynı dağılıma sahip değildir.\")\n",
    "else:\n",
    "    print(\"İki örneklem aynı dağılıma sahiptir.\")"
   ]
  },
  {
   "cell_type": "markdown",
   "id": "73ad38dd-4a57-4712-a002-c44cbdc8d8ef",
   "metadata": {},
   "source": [
    "Yaptığımız analiz sonucunda verilerin normal dağılmadığı sonucuna ulaştık. Bundan dolayı t testi yerine Non-Parametrik test olan Mann Whitney testini kullanacağız."
   ]
  },
  {
   "cell_type": "code",
   "execution_count": 11,
   "id": "9ecc0ffc-325b-4b2c-ad07-82ac885f42b1",
   "metadata": {},
   "outputs": [
    {
     "name": "stdout",
     "output_type": "stream",
     "text": [
      "Mann-Whitney U testi p-değeri: 1.1387859626833666e-05\n"
     ]
    }
   ],
   "source": [
    "stat, p = mannwhitneyu(male_calories, female_calories)\n",
    "print(\"Mann-Whitney U testi p-değeri:\" ,p)"
   ]
  },
  {
   "cell_type": "markdown",
   "id": "fc110e69-06ab-4be8-86a1-b2a265ef7034",
   "metadata": {},
   "source": [
    "Aşağıda kurduğumuz döngü sonucunda H0 hipotezi hakkında yorum yapabiliyoruz."
   ]
  },
  {
   "cell_type": "code",
   "execution_count": 12,
   "id": "532fe661-fdbe-4997-8b5c-36f506e38227",
   "metadata": {},
   "outputs": [
    {
     "name": "stdout",
     "output_type": "stream",
     "text": [
      "H0 hipotezi reddedilir. Cinsiyete göre yakılan kalori miktarları arasında fark vardır.\n"
     ]
    }
   ],
   "source": [
    "if p < alpha:\n",
    "    print(\"H0 hipotezi reddedilir. Cinsiyete göre yakılan kalori miktarları arasında fark vardır.\")\n",
    "else:\n",
    "    print(\"H0 hipotezi kabul edilir. Cinsiyete göre yakılan kalori miktarları arasında fark yoktur.\")"
   ]
  },
  {
   "cell_type": "markdown",
   "id": "d4488c3e-3f80-4bb9-961b-a640f55570f6",
   "metadata": {},
   "source": [
    "H0 hipotezini reddettik. Erkek üyelerin ortalama yaktıkları kalori miktarı, kadın üyelerin ortalama yaktığı kalori miktarından fazladır."
   ]
  },
  {
   "cell_type": "markdown",
   "id": "91796521-b6ad-481a-a635-94d1c53a77a9",
   "metadata": {},
   "source": [
    "* 2.tip hata"
   ]
  },
  {
   "cell_type": "markdown",
   "id": "9a836fcc-4d26-46a3-b4b9-81d645324a5b",
   "metadata": {},
   "source": [
    "Erkek ve kadın üyelerin ortalama yakılan kalori miktarlarını hesaplıyoruz."
   ]
  },
  {
   "cell_type": "code",
   "execution_count": 13,
   "id": "9943ad5f-8c30-468e-8775-8216eda91b72",
   "metadata": {},
   "outputs": [
    {
     "name": "stdout",
     "output_type": "stream",
     "text": [
      "Erkeklerin yaktığı ortalama kalori miktarı:  944.4559686888454\n",
      "Kadınların yaktığı ortalama kalori miktarı:  862.2489177489177\n"
     ]
    }
   ],
   "source": [
    "mean_male = male_calories.mean()\n",
    "print(\"Erkeklerin yaktığı ortalama kalori miktarı: \", mean_male)\n",
    "\n",
    "mean_female = female_calories.mean()\n",
    "print(\"Kadınların yaktığı ortalama kalori miktarı: \", mean_female)"
   ]
  },
  {
   "cell_type": "markdown",
   "id": "9ade51b0-83c7-40dd-b08a-341e52934857",
   "metadata": {},
   "source": [
    "Erkek ve kadın üyelerin ortalama yakılan kalori miktarlarının standart sapmalarını hesaplıyoruz."
   ]
  },
  {
   "cell_type": "code",
   "execution_count": 14,
   "id": "19a1b6d3-6d45-40a3-8d90-598576a661fa",
   "metadata": {},
   "outputs": [
    {
     "name": "stdout",
     "output_type": "stream",
     "text": [
      "Erkek üyelerin yaktıkları ortalama kalori miktarının standart sapması:  286.59098667906056\n",
      "Kadın üyelerin yaktıkları ortalama kalori miktarının standart sapması:  249.6149154564867\n"
     ]
    }
   ],
   "source": [
    "std_male = np.std(male_calories, ddof = 1)\n",
    "std_female = np.std(female_calories, ddof = 1)\n",
    "\n",
    "print(\"Erkek üyelerin yaktıkları ortalama kalori miktarının standart sapması: \", std_male)\n",
    "print(\"Kadın üyelerin yaktıkları ortalama kalori miktarının standart sapması: \", std_female)"
   ]
  },
  {
   "cell_type": "markdown",
   "id": "07f04161-8475-4eea-9564-08d8c283a801",
   "metadata": {},
   "source": [
    "Etki büyüklüğü"
   ]
  },
  {
   "cell_type": "code",
   "execution_count": 15,
   "id": "19ce472a-0184-43e1-bbbc-ead1a16cbb0f",
   "metadata": {},
   "outputs": [
    {
     "name": "stdout",
     "output_type": "stream",
     "text": [
      "Etki büyüklüğü:  0.3058984810793362\n"
     ]
    }
   ],
   "source": [
    "effect_size1 = (mean_male - mean_female) / np.sqrt((std_male**2 + std_female**2)/2)\n",
    "print(\"Etki büyüklüğü: \", effect_size1)"
   ]
  },
  {
   "cell_type": "code",
   "execution_count": 17,
   "id": "2cff2b42-a6f0-4eae-801c-ec188b4a8637",
   "metadata": {},
   "outputs": [],
   "source": [
    "power_analysis = TTestIndPower()"
   ]
  },
  {
   "cell_type": "code",
   "execution_count": 18,
   "id": "eded1251-4700-436c-a3bb-10fd482dc169",
   "metadata": {},
   "outputs": [
    {
     "name": "stdout",
     "output_type": "stream",
     "text": [
      "Testin gücü:  0.9982778243508986\n",
      "2.tip hata:  0.0017221756491013762\n"
     ]
    }
   ],
   "source": [
    "power = power_analysis.solve_power(effect_size1, power = None, nobs1 = len(male_calories), ratio = 1.0, alpha = alpha)\n",
    "beta = 1 - power\n",
    "\n",
    "print(\"Testin gücü: \", power)\n",
    "print(\"2.tip hata: \", beta)"
   ]
  },
  {
   "cell_type": "markdown",
   "id": "8339763e-a2e9-4833-a8d7-4aa09ca5bf0a",
   "metadata": {},
   "source": [
    "## 2.HİPOTEZ"
   ]
  },
  {
   "cell_type": "markdown",
   "id": "fe83e957-4e6c-4288-800f-b6aac4881cb1",
   "metadata": {},
   "source": [
    "H0: 73'ten az kiloya sahip üyelerin ortalama oturum süreleri ile 73'ten fazla kiloya sahip üyelerin oturum süreleri arasında fark yoktur.            \n",
    "H1: 73'ten az kiloya sahip üyelerin ortalama oturum süreleri ile 73'ten fazla kiloya sahip üyelerin oturum süreleri arasında fark vardır."
   ]
  },
  {
   "cell_type": "markdown",
   "id": "8271bd70-0501-4afa-9355-a8f9835c7d2e",
   "metadata": {},
   "source": [
    "_Üyeleri 73 kilodan az ve fazla olacak şekilde iki gruba ayırdık._"
   ]
  },
  {
   "cell_type": "code",
   "execution_count": 19,
   "id": "286918e9-fd4c-498a-a4b5-3b93acec2d59",
   "metadata": {},
   "outputs": [],
   "source": [
    "group1 = data[data[\"Weight (kg)\"] < 73][\"Session_Duration (hours)\"]\n",
    "group2 = data[data[\"Weight (kg)\"] >= 73][\"Session_Duration (hours)\"]"
   ]
  },
  {
   "cell_type": "markdown",
   "id": "4ca570be-bda9-4e65-be93-a57829ca7eac",
   "metadata": {},
   "source": [
    "p ve t-testindeki değerleri bulduk."
   ]
  },
  {
   "cell_type": "code",
   "execution_count": 20,
   "id": "1210708c-e59d-4884-ba79-67feabe6c38b",
   "metadata": {},
   "outputs": [
    {
     "name": "stdout",
     "output_type": "stream",
     "text": [
      "t-test istatistiği:  -2.2810119499733217\n",
      "p-değeri:  0.02276360451356769\n"
     ]
    }
   ],
   "source": [
    "t_stat, p_value2 = ttest_ind(group1, group2)\n",
    "\n",
    "print(\"t-test istatistiği: \",t_stat)\n",
    "print(\"p-değeri: \",p_value2)"
   ]
  },
  {
   "cell_type": "markdown",
   "id": "74a24cb8-02f5-4818-8ebf-5db400f944e7",
   "metadata": {},
   "source": [
    "Hipotezimizi %5 anlamlılık düzeyinde test ettik. "
   ]
  },
  {
   "cell_type": "code",
   "execution_count": 21,
   "id": "077a5653-6038-4d2a-adb4-6955886b3fae",
   "metadata": {},
   "outputs": [
    {
     "name": "stdout",
     "output_type": "stream",
     "text": [
      "H0 hipotezi reddedilir. 73'ten az ve fazla kiloya sahip üyelerin ortalama oturum süreleri arasında fark vardır.\n"
     ]
    }
   ],
   "source": [
    "if p_value2 < alpha:\n",
    "    print(\"H0 hipotezi reddedilir. 73'ten az ve fazla kiloya sahip üyelerin ortalama oturum süreleri arasında fark vardır.\")\n",
    "else:\n",
    "    print(\"H0 hipotezi kabul edilir. 73'ten az ve fazla kiloya sahip üyelerin ortalama oturum sürekleri arasında fark yoktur.\")"
   ]
  },
  {
   "cell_type": "markdown",
   "id": "b00b514b-34aa-4c93-862c-d737dbf880cf",
   "metadata": {},
   "source": [
    "H0 hipotezini reddettik. 73'ten fazla kiloya sahip üyelerin ortalama oturum süresi 73'ten az kiloya sahip üyelerin ortalama oturum süresinden  fazladır."
   ]
  },
  {
   "cell_type": "markdown",
   "id": "e7c7042b-c6b6-4db2-b05f-08e7dfe2a257",
   "metadata": {},
   "source": [
    "* 2.tip hata"
   ]
  },
  {
   "cell_type": "markdown",
   "id": "c5baafca-8056-411a-a2cc-e46320ddd162",
   "metadata": {},
   "source": [
    "Grup1 ve grup2'nin ortalamalarını aldık."
   ]
  },
  {
   "cell_type": "code",
   "execution_count": 23,
   "id": "ead78fb8-c0f9-46d8-b662-9dd332008256",
   "metadata": {},
   "outputs": [
    {
     "name": "stdout",
     "output_type": "stream",
     "text": [
      "73'ten az kiloya sahip üyelerin ortalama oturum süresi:  1.234426229508197\n",
      "73'ten fazla kiloya sahip üyelerin ortalama oturum süresi:  1.2849056603773583\n"
     ]
    }
   ],
   "source": [
    "mean_weight1 = group1.mean()\n",
    "print(\"73'ten az kiloya sahip üyelerin ortalama oturum süresi: \", mean_weight1)\n",
    "\n",
    "mean_weight2 = group2.mean()\n",
    "print(\"73'ten fazla kiloya sahip üyelerin ortalama oturum süresi: \", mean_weight2)"
   ]
  },
  {
   "cell_type": "markdown",
   "id": "66a3040e-7192-4403-892e-c3b402df7dac",
   "metadata": {},
   "source": [
    "Grup1 ve grup2'nin standart sapmalarını hesapladık."
   ]
  },
  {
   "cell_type": "code",
   "execution_count": 24,
   "id": "1935a381-23db-4b86-b597-c9e4945d05a9",
   "metadata": {},
   "outputs": [
    {
     "name": "stdout",
     "output_type": "stream",
     "text": [
      "Grup1'in standart sapması:  0.338474853949319\n",
      "Grup2'nin standart sapması:  0.34717977652157045\n"
     ]
    }
   ],
   "source": [
    "std_group1 = np.std(group1, ddof = 1)\n",
    "std_group2 = np.std(group2, ddof = 1)\n",
    "\n",
    "print(\"Grup1'in standart sapması: \", std_group1)\n",
    "print(\"Grup2'nin standart sapması: \", std_group2)"
   ]
  },
  {
   "cell_type": "markdown",
   "id": "666e6224-6b7b-40e1-a6a4-fc8dad7c3bb5",
   "metadata": {},
   "source": [
    "Etki büyüklüğünü hesaplayalım."
   ]
  },
  {
   "cell_type": "code",
   "execution_count": 25,
   "id": "a4f129e5-1204-4a74-8c77-6f727159af56",
   "metadata": {},
   "outputs": [
    {
     "name": "stdout",
     "output_type": "stream",
     "text": [
      "Etki büyüklüğü:  -0.1472326180175729\n"
     ]
    }
   ],
   "source": [
    "effect_size2 = (mean_weight1 - mean_weight2) / np.sqrt((std_group1**2 + std_group2**2) / 2)\n",
    "print(\"Etki büyüklüğü: \", effect_size2)"
   ]
  },
  {
   "cell_type": "markdown",
   "id": "9c8bc3a5-07ca-4a84-b836-8bff5c7c2dfe",
   "metadata": {},
   "source": [
    "## 3.HİPOTEZ"
   ]
  },
  {
   "cell_type": "markdown",
   "id": "f2a8fb59-9720-4185-aade-c32104953970",
   "metadata": {},
   "source": [
    "H0: 30 yaşından küçük üyelerin ortalama antrenman sıklığı ile 30 yaşından büyük üyelerin ortalama antrenman sıklığı arasında fark yoktur.               \n",
    "H1: 30 yaşından küçük üyelerin ortalama antrenman sıklığı, 30 yaşından büyük üyelerin ortalama antrenman sıklığından büyüktür."
   ]
  },
  {
   "cell_type": "markdown",
   "id": "8bd3a922-a49a-4d26-bc08-f127bb409cfb",
   "metadata": {},
   "source": [
    "_Üyeleri 30 yaşından büyük ve küçük olacak şekilde iki ayrı gruba ayırdık._"
   ]
  },
  {
   "cell_type": "code",
   "execution_count": 71,
   "id": "de594f44-e210-4736-926d-f1f6032ef689",
   "metadata": {},
   "outputs": [],
   "source": [
    "kucuk_yas = data[data[\"Age\"] < 30][\"Workout_Frequency (days/week)\"]\n",
    "buyuk_yas = data[data[\"Age\"] >= 30][\"Workout_Frequency (days/week)\"]"
   ]
  },
  {
   "cell_type": "markdown",
   "id": "b1d26c06-548f-4693-bf77-f26a5ac31e01",
   "metadata": {},
   "source": [
    "_Tek yönlü t testini uyguladık._"
   ]
  },
  {
   "cell_type": "code",
   "execution_count": 72,
   "id": "604121dd-d79d-4fd8-929a-cc3430a08031",
   "metadata": {},
   "outputs": [],
   "source": [
    "t_stat2, p_value3 = ttest_ind(kucuk_yas, buyuk_yas)"
   ]
  },
  {
   "cell_type": "markdown",
   "id": "94b022a8-50f1-4cbf-98bc-3f88e273d1bc",
   "metadata": {},
   "source": [
    "_Tek yönlü t-testini uyguluyoruz.Tek yönlü olduğu için p-değerini yarıya bölüyoruz._"
   ]
  },
  {
   "cell_type": "code",
   "execution_count": 74,
   "id": "43460e75-2169-4202-8627-ce5a11dd1431",
   "metadata": {},
   "outputs": [
    {
     "name": "stdout",
     "output_type": "stream",
     "text": [
      "t-istatistiği sonucu:  -0.8399526268813662\n",
      "p-değeri:  0.40114171156457035\n"
     ]
    }
   ],
   "source": [
    "p_value_one_tailed = p_value3/2\n",
    "\n",
    "print(\"t-istatistiği sonucu: \", t_stat2)\n",
    "print(\"p-değeri: \", p_value3)"
   ]
  },
  {
   "cell_type": "markdown",
   "id": "391946e2-dadb-4a0a-b57f-3bf1661a6f7b",
   "metadata": {},
   "source": [
    "_Hipotez testi sonucu_"
   ]
  },
  {
   "cell_type": "code",
   "execution_count": 75,
   "id": "6de84555-2a39-4846-bbbc-352b8fc432d0",
   "metadata": {},
   "outputs": [
    {
     "name": "stdout",
     "output_type": "stream",
     "text": [
      "H0 kabul edilir. 30 yaşından küçük üyelerin antrenman sıklığı, 30 yaşından büyük üyelerin antrenman sıklığından fazla değildir.\n"
     ]
    }
   ],
   "source": [
    "if p_value_one_tailed < alpha and t_stat2 > 0:\n",
    "    print(\"H0 reddedilir. 30 yaşından küçük üyelerin ortalama antrenman sıklığı daha fazladır.\")\n",
    "else:\n",
    "    print(\"H0 kabul edilir. 30 yaşından küçük üyelerin antrenman sıklığı, 30 yaşından büyük üyelerin antrenman sıklığından fazla değildir.\")"
   ]
  },
  {
   "cell_type": "code",
   "execution_count": 79,
   "id": "a92169b0-eaa8-477c-972a-150bc8847b1d",
   "metadata": {},
   "outputs": [
    {
     "name": "stdout",
     "output_type": "stream",
     "text": [
      "Küçük yaş ortalaması:  3.282608695652174\n",
      "Büyük yaş ortalaması:  3.337159253945481\n"
     ]
    }
   ],
   "source": [
    "kucukyas_ort = kucuk_yas.mean()\n",
    "print(\"Küçük yaş ortalaması: \", kucukyas_ort)\n",
    "\n",
    "buyukyas_ort = buyuk_yas.mean()\n",
    "print(\"Büyük yaş ortalaması: \", buyukyas_ort)"
   ]
  },
  {
   "cell_type": "code",
   "execution_count": null,
   "id": "fed43eab-8113-4811-bc83-e4c419e80466",
   "metadata": {},
   "outputs": [],
   "source": []
  }
 ],
 "metadata": {
  "kernelspec": {
   "display_name": "Python 3 (ipykernel)",
   "language": "python",
   "name": "python3"
  },
  "language_info": {
   "codemirror_mode": {
    "name": "ipython",
    "version": 3
   },
   "file_extension": ".py",
   "mimetype": "text/x-python",
   "name": "python",
   "nbconvert_exporter": "python",
   "pygments_lexer": "ipython3",
   "version": "3.12.7"
  }
 },
 "nbformat": 4,
 "nbformat_minor": 5
}
